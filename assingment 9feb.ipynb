{
 "cells": [
  {
   "cell_type": "code",
   "execution_count": null,
   "id": "e31181b1-a14c-46f9-afbc-a7659e78a918",
   "metadata": {},
   "outputs": [],
   "source": [
    "#Q1, Create a vehicle class with an init method having instance variables as name_of_vehicle, max_speed\n",
    "#and average_of_vehicle."
   ]
  },
  {
   "cell_type": "code",
   "execution_count": 1,
   "id": "2d4ea8fe-4b04-4a79-9c36-85f9c4bb27df",
   "metadata": {},
   "outputs": [],
   "source": [
    "#ans\n",
    "class vehicle:\n",
    "    def __init__(self,name_of_vehicle,max_speed,average_of_vehicle):\n",
    "        \"\"\"\n",
    "        This is init constructor definition which intializes all input variables\n",
    "        for the class vehicle\n",
    "        \"\"\"\n",
    "        self.name_of_vehicle = name_of_vehicle\n",
    "        self.max_speed = max_speed\n",
    "        self.average_of_vehicle = average_of_vehicle"
   ]
  },
  {
   "cell_type": "code",
   "execution_count": 2,
   "id": "a258d2b1-c89d-431b-932a-3ed8e96773ac",
   "metadata": {},
   "outputs": [
    {
     "name": "stdout",
     "output_type": "stream",
     "text": [
      "My vehicle name is Kia Seltos\n",
      "It has max speed of 170 kmph\n",
      "It has Average Mileage of 18.5 kmpl\n"
     ]
    }
   ],
   "source": [
    "# Example\n",
    "my_car = vehicle('Kia Seltos',170,18.5)\n",
    "print(f'My vehicle name is {my_car.name_of_vehicle}')\n",
    "print(f'It has max speed of {my_car.max_speed} kmph')\n",
    "print(f'It has Average Mileage of {my_car.average_of_vehicle} kmpl')"
   ]
  },
  {
   "cell_type": "code",
   "execution_count": null,
   "id": "06a22012-cbaa-461f-b5e8-1b4f475a53aa",
   "metadata": {},
   "outputs": [],
   "source": [
    "#Q2. Create a child class car from the vehicle class created in Que 1, which will inherit the vehicle class.\n",
    "#Create a method named seating_capacity which takes capacity as an argument and returns the name of\n",
    "#the vehicle and its seating capacity."
   ]
  },
  {
   "cell_type": "code",
   "execution_count": 3,
   "id": "ba507103-e332-4db4-a24a-f2f720ee466f",
   "metadata": {},
   "outputs": [],
   "source": [
    "#Ans\n",
    "\n",
    "class car(vehicle):\n",
    "\n",
    "    def seating_capacity(self,capacity):\n",
    "        \"\"\"\n",
    "        This function takes capacity as argument \n",
    "        and returns vehicle name and seating capacity\n",
    "        \"\"\"\n",
    "        self.capacity = capacity\n",
    "        return self.name_of_vehicle, self.capacity"
   ]
  },
  {
   "cell_type": "code",
   "execution_count": 4,
   "id": "cd9000d2-f032-4b51-8ab8-8365e9026e3e",
   "metadata": {},
   "outputs": [
    {
     "data": {
      "text/plain": [
       "('MG Hector', 5)"
      ]
     },
     "execution_count": 4,
     "metadata": {},
     "output_type": "execute_result"
    }
   ],
   "source": [
    "# Example\n",
    "friends_car = car('MG Hector',195,14)\n",
    "friends_car.seating_capacity(5)"
   ]
  },
  {
   "cell_type": "code",
   "execution_count": null,
   "id": "00620218-04fe-404b-9e0f-3433948e1273",
   "metadata": {},
   "outputs": [],
   "source": [
    "#Q3. What is multiple inheritance? Write a python code to demonstrate multiple inheritance."
   ]
  },
  {
   "cell_type": "code",
   "execution_count": null,
   "id": "331ef88f-4af6-46aa-9cfa-a09f0e4b8488",
   "metadata": {},
   "outputs": [],
   "source": [
    "\n",
    "Answer : if a child class inherits from more than one class, i.e. this child class is derived from multiple classes,\n",
    "we call it multiple inheritance in Python.\n",
    "This newly derived child class will inherit the properties of all the classes that it is derived from.\n"
   ]
  },
  {
   "cell_type": "code",
   "execution_count": 6,
   "id": "d444a1c7-dac4-4c64-957f-ce6b9061b874",
   "metadata": {},
   "outputs": [],
   "source": [
    "# creating class for father\n",
    "class Dad():\n",
    "\t# writing a method for parent class 1\n",
    "\tdef guitar(self):\n",
    "\t\tprint(\"Dad plays guitar!\")\n",
    "\t\t\n",
    "# creating a class for mother\n",
    "class Mom():\n",
    "\t# method for parent class 2\n",
    "\tdef cooking(self):\n",
    "\t\tprint(\"Mom cooks well\")\n",
    "\n",
    "# creating derived class which inherits from 2 parent classes\n",
    "class Child(Dad, Mom):\n",
    "\tdef sing_and_foodie(self):\n",
    "\t\tprint(\"Kid loves to sing and is a foodie\")\n"
   ]
  },
  {
   "cell_type": "code",
   "execution_count": 7,
   "id": "6f779173-66be-4556-abac-37df9e53fdaf",
   "metadata": {},
   "outputs": [
    {
     "name": "stdout",
     "output_type": "stream",
     "text": [
      "Dad plays guitar!\n",
      "Mom cooks well\n",
      "Kid loves to sing and is a foodie\n"
     ]
    }
   ],
   "source": [
    "\n",
    "\n",
    "# creating object of the new derived class\n",
    "child = Child()\n",
    "\n",
    "# calling methods of parent classes and derived class\n",
    "child.guitar()\n",
    "child.cooking()\n",
    "child.sing_and_foodie()"
   ]
  },
  {
   "cell_type": "code",
   "execution_count": null,
   "id": "40c64ccf-b896-456f-801f-df338e7c665b",
   "metadata": {},
   "outputs": [],
   "source": [
    "#Q4. What are getter and setter in python? Create a class and create a getter and a setter method in this\n",
    "#class."
   ]
  },
  {
   "cell_type": "code",
   "execution_count": null,
   "id": "35a85a07-d255-470c-a8dc-a375748b5e83",
   "metadata": {},
   "outputs": [],
   "source": [
    "Getters : These are the methods used in Object-Oriented Programming (OOPS) which helps to access the private attributes from a class.\n",
    "Setters : These are the methods used in OOPS feature which helps to set the value to private attributes in a class."
   ]
  },
  {
   "cell_type": "code",
   "execution_count": 8,
   "id": "2b402983-4d71-4160-b51a-81feec473490",
   "metadata": {},
   "outputs": [],
   "source": [
    "# Creating a class employee with getter and setter functions for employee_id variable\n",
    "class employee:\n",
    "\n",
    "    def __init__(self,name,employee_id):\n",
    "        \"\"\"\n",
    "        This constructor function creates 2 private vairables \n",
    "        name and employee_id which cannot be directly accessed\n",
    "        \"\"\"\n",
    "        self.__name = name\n",
    "        self.__employee_id = employee_id\n",
    "    \n",
    "    def get_employee_id(self):\n",
    "        \"\"\"\n",
    "        This is getter function gets the employee id of the given employee\n",
    "        \"\"\"\n",
    "        return self.__employee_id\n",
    "    \n",
    "    def set_employee_id(self,new_id):\n",
    "        \"\"\"\n",
    "        This is a setter function and sets the employee id for given employess\n",
    "        \"\"\"\n",
    "        self.__employee_id = new_id"
   ]
  },
  {
   "cell_type": "code",
   "execution_count": 9,
   "id": "a9a34148-81b7-4230-90ff-0bb0db9c229c",
   "metadata": {},
   "outputs": [
    {
     "data": {
      "text/plain": [
       "'123'"
      ]
     },
     "execution_count": 9,
     "metadata": {},
     "output_type": "execute_result"
    }
   ],
   "source": [
    "# Example with getter function\n",
    "emp1 = employee('Utkarsh','123')\n",
    "emp1.get_employee_id()"
   ]
  },
  {
   "cell_type": "code",
   "execution_count": 10,
   "id": "5bce2a19-2721-4d74-8414-1270db895c10",
   "metadata": {},
   "outputs": [],
   "source": [
    "\n",
    "# Example setter function\n",
    "emp1.set_employee_id('007')"
   ]
  },
  {
   "cell_type": "code",
   "execution_count": 11,
   "id": "6689fe3f-d9e0-43be-aa4c-ccc0b1d25894",
   "metadata": {},
   "outputs": [
    {
     "data": {
      "text/plain": [
       "'007'"
      ]
     },
     "execution_count": 11,
     "metadata": {},
     "output_type": "execute_result"
    }
   ],
   "source": [
    "# Checking new employee id\n",
    "emp1.get_employee_id()"
   ]
  },
  {
   "cell_type": "code",
   "execution_count": null,
   "id": "e4114a9a-47b1-4dc1-8ea4-91f327e29666",
   "metadata": {},
   "outputs": [],
   "source": [
    "#Q5.What is method overriding in python? Write a python code to demonstrate method overriding."
   ]
  },
  {
   "cell_type": "code",
   "execution_count": null,
   "id": "b7ccd76e-be49-4c2b-b1be-d72bbc4d13f1",
   "metadata": {},
   "outputs": [],
   "source": [
    "Answer : Method overriding is a feature of object-oriented programming languages where the subclass or \n",
    "child class can provide the program with specific characteristics or a specific \n",
    "implementation process of data provided that are already defined in the parent class or superclass."
   ]
  }
 ],
 "metadata": {
  "kernelspec": {
   "display_name": "Python 3 (ipykernel)",
   "language": "python",
   "name": "python3"
  },
  "language_info": {
   "codemirror_mode": {
    "name": "ipython",
    "version": 3
   },
   "file_extension": ".py",
   "mimetype": "text/x-python",
   "name": "python",
   "nbconvert_exporter": "python",
   "pygments_lexer": "ipython3",
   "version": "3.10.8"
  }
 },
 "nbformat": 4,
 "nbformat_minor": 5
}
